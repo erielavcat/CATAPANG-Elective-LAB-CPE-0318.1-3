{
  "nbformat": 4,
  "nbformat_minor": 0,
  "metadata": {
    "colab": {
      "name": "CATAPANG Intro to Python.ipynb",
      "provenance": [],
      "authorship_tag": "ABX9TyPk2RDoFZY23vDYbhJZjJ+Q",
      "include_colab_link": true
    },
    "kernelspec": {
      "name": "python3",
      "display_name": "Python 3"
    },
    "language_info": {
      "name": "python"
    }
  },
  "cells": [
    {
      "cell_type": "markdown",
      "metadata": {
        "id": "view-in-github",
        "colab_type": "text"
      },
      "source": [
        "<a href=\"https://colab.research.google.com/github/erielavcat/CATAPANG-Elective-LAB-CPE-0318.1-3/blob/main/CATAPANG_Intro_to_Python.ipynb\" target=\"_parent\"><img src=\"https://colab.research.google.com/assets/colab-badge.svg\" alt=\"Open In Colab\"/></a>"
      ]
    },
    {
      "cell_type": "markdown",
      "source": [
        "##Python Indention"
      ],
      "metadata": {
        "id": "VnZyM8kPMdS_"
      }
    },
    {
      "cell_type": "code",
      "source": [
        "if 5<2:\n",
        "  print(\"Five is less than two\")\n",
        "else:\n",
        "  print(\"Five is greater than two\")"
      ],
      "metadata": {
        "colab": {
          "base_uri": "https://localhost:8080/"
        },
        "id": "tB1M6qs8MhvX",
        "outputId": "08f68529-fb3a-40ae-eb04-8f51dd839765"
      },
      "execution_count": 1,
      "outputs": [
        {
          "output_type": "stream",
          "name": "stdout",
          "text": [
            "Five is greater than two\n"
          ]
        }
      ]
    },
    {
      "cell_type": "markdown",
      "source": [
        "##Python Comments"
      ],
      "metadata": {
        "id": "o72RQRAwMrah"
      }
    },
    {
      "cell_type": "code",
      "source": [
        "# This is a program that displays Hello, World\n",
        "\n",
        "print(\"Hello, World\")\n",
        "print('Welcome to Python Programming')"
      ],
      "metadata": {
        "colab": {
          "base_uri": "https://localhost:8080/"
        },
        "id": "rNyRTOeuMuIi",
        "outputId": "f41d3aee-9e2b-4046-9f19-25d5efa25a5a"
      },
      "execution_count": 2,
      "outputs": [
        {
          "output_type": "stream",
          "name": "stdout",
          "text": [
            "Hello, World\n",
            "Welcome to Python Programming\n"
          ]
        }
      ]
    }
  ]
}